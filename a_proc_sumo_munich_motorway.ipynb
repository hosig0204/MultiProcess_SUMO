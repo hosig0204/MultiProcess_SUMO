{
 "cells": [
  {
   "cell_type": "markdown",
   "metadata": {},
   "source": [
    "### Purpose of this notebook\n",
    "1. Edit munich network. (SUMO file)\n",
    "2. Make \"plainnet.edg.xml\" file via \"netconvert\": xml format file containing edge information.\n",
    "3. Make \"plainnet.edg.csv\" file via \"xml2csv.py\": csv format file containing edge information."
   ]
  },
  {
   "cell_type": "markdown",
   "metadata": {},
   "source": [
    "#### !!! WARNING: INFLUX & OUTFLUX EDGES IN NETWORK SHOULD BE SEPARATED !!!"
   ]
  },
  {
   "cell_type": "code",
   "execution_count": null,
   "metadata": {},
   "outputs": [],
   "source": [
    "# Edit network file manually.\n",
    "!netedit munich_motorway_v3/mmv3.net.xml"
   ]
  },
  {
   "cell_type": "code",
   "execution_count": null,
   "metadata": {},
   "outputs": [],
   "source": [
    "# Use netconvert.\n",
    "!netconvert --sumo-net-file munich_motorway_v3/mmv3.net.xml -o munich_motorway_v3/sumo_mmv3.net.xml --plain-output-prefix plainnet"
   ]
  },
  {
   "cell_type": "code",
   "execution_count": null,
   "metadata": {},
   "outputs": [],
   "source": [
    "# Use xml2csv.py.\n",
    "!python \"c:/Program Files (x86)/Eclipse/Sumo/tools/xml/xml2csv.py\" munich_motorway_v3/plainnet.edg.xml"
   ]
  },
  {
   "cell_type": "code",
   "execution_count": null,
   "metadata": {},
   "outputs": [],
   "source": [
    "# Check csv file.\n",
    "import pandas as pd\n",
    "df_edge = pd.read_csv(\"munich_motorway_v3/plainnet.edg.csv\", sep= \";\")\n",
    "df_edge.head()"
   ]
  }
 ],
 "metadata": {
  "kernelspec": {
   "display_name": "Python 3.9.12 ('base')",
   "language": "python",
   "name": "python3"
  },
  "language_info": {
   "codemirror_mode": {
    "name": "ipython",
    "version": 3
   },
   "file_extension": ".py",
   "mimetype": "text/x-python",
   "name": "python",
   "nbconvert_exporter": "python",
   "pygments_lexer": "ipython3",
   "version": "3.9.12"
  },
  "orig_nbformat": 4,
  "vscode": {
   "interpreter": {
    "hash": "ad2bdc8ecc057115af97d19610ffacc2b4e99fae6737bb82f5d7fb13d2f2c186"
   }
  }
 },
 "nbformat": 4,
 "nbformat_minor": 2
}
