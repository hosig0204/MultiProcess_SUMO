{
 "cells": [
  {
   "cell_type": "code",
   "execution_count": null,
   "metadata": {},
   "outputs": [],
   "source": [
    "import pandas as pd\n",
    "import numpy as np\n",
    "import os"
   ]
  },
  {
   "cell_type": "code",
   "execution_count": null,
   "metadata": {},
   "outputs": [],
   "source": [
    "str_path_od_base = \"data_tabular/df_od_base_mmv3.pkl\"\n",
    "str_path_od_fil = \"munich_motorway_v3/df_od_fil.pkl\""
   ]
  },
  {
   "cell_type": "code",
   "execution_count": null,
   "metadata": {},
   "outputs": [],
   "source": [
    "df_od_base = pd.read_pickle(str_path_od_base)\n",
    "tup_dims_df_od = df_od_base.shape\n",
    "print(tup_dims_df_od)"
   ]
  },
  {
   "cell_type": "code",
   "execution_count": null,
   "metadata": {},
   "outputs": [],
   "source": [
    "df_od_fil = pd.read_pickle(str_path_od_fil)\n",
    "print(df_od_fil.shape)\n",
    "print(df_od_fil.sum().sum())"
   ]
  },
  {
   "cell_type": "code",
   "execution_count": null,
   "metadata": {},
   "outputs": [],
   "source": [
    "row_index = df_od_base.index\n",
    "col_index = df_od_base.columns"
   ]
  },
  {
   "cell_type": "code",
   "execution_count": null,
   "metadata": {},
   "outputs": [],
   "source": [
    "nr_tot_od_samples = 2000\n",
    "str_dir_od_samples = \"data_tabular/od_samples_mmv3\""
   ]
  },
  {
   "cell_type": "code",
   "execution_count": null,
   "metadata": {},
   "outputs": [],
   "source": [
    "mu_gaus = 0             # Mean of Gaussian Dist: 0\n",
    "sigma_gaus = 0.33333    # Sigma of Gaussian Dist: 99.7% of all samples should fall into +- 1 boundary.\n",
    "\n",
    "fac_reduction = 1       # No reduction.\n",
    "fac_randomness = 0.20   # +- 20% perturbation for random samples.\n",
    "\n",
    "arr_od_base = df_od_base.values"
   ]
  },
  {
   "cell_type": "code",
   "execution_count": null,
   "metadata": {},
   "outputs": [],
   "source": [
    "for idx in range(nr_tot_od_samples):\n",
    "    \n",
    "    # Define array with elements from Gaussian distribution.\n",
    "    arr_gaus = np.random.normal(mu_gaus, sigma_gaus, size= tup_dims_df_od)    \n",
    "    # Define perturbing array from Gaussian elements.\n",
    "    arr_perturb = fac_reduction + (fac_randomness * arr_gaus)\n",
    "\n",
    "    # Define perturbed base od array.\n",
    "    arr_tmp = arr_perturb * arr_od_base\n",
    "    arr_tmp = arr_tmp.round()\n",
    "    arr_tmp = arr_tmp.astype(int)\n",
    "    arr_tmp = np.clip(arr_tmp, a_min= 0 , a_max= 100)\n",
    "    \n",
    "    # Make dataframe from perturned array and store it.\n",
    "    df_od_sample = pd.DataFrame(arr_tmp, columns= col_index, index= row_index)\n",
    "    str_path_sample = os.path.join(str_dir_od_samples, f\"df_od_sample_{idx+1:05d}.pkl\")\n",
    "    df_od_sample.to_pickle(str_path_sample)"
   ]
  }
 ],
 "metadata": {
  "kernelspec": {
   "display_name": "Python 3.9.12 ('base')",
   "language": "python",
   "name": "python3"
  },
  "language_info": {
   "codemirror_mode": {
    "name": "ipython",
    "version": 3
   },
   "file_extension": ".py",
   "mimetype": "text/x-python",
   "name": "python",
   "nbconvert_exporter": "python",
   "pygments_lexer": "ipython3",
   "version": "3.9.12"
  },
  "orig_nbformat": 4,
  "vscode": {
   "interpreter": {
    "hash": "ad2bdc8ecc057115af97d19610ffacc2b4e99fae6737bb82f5d7fb13d2f2c186"
   }
  }
 },
 "nbformat": 4,
 "nbformat_minor": 2
}
