{
 "cells": [
  {
   "cell_type": "markdown",
   "metadata": {},
   "source": [
    "## Purpose of this notebook\n",
    "1. Import edge information csv file.\n",
    "2. Extract necessary information.\n",
    "3. Remove duplicated edge_ids."
   ]
  },
  {
   "cell_type": "code",
   "execution_count": null,
   "metadata": {},
   "outputs": [],
   "source": [
    "# Import modules.\n",
    "import pandas as pd\n",
    "import numpy as np"
   ]
  },
  {
   "cell_type": "code",
   "execution_count": null,
   "metadata": {},
   "outputs": [],
   "source": [
    "# Import raw edge file.\n",
    "str_path_edge_csv = \"munich_motorway_v3/plainnet.edg.csv\"\n",
    "df_edge_raw = pd.read_csv(str_path_edge_csv, sep= \";\")\n",
    "df_edge_raw.head(5)"
   ]
  },
  {
   "cell_type": "code",
   "execution_count": null,
   "metadata": {},
   "outputs": [],
   "source": [
    "# Store ordinary csv file. Comma separator.\n",
    "df_edge_raw.to_csv(\"munich_motorway_v3/df_edge_raw.csv\")"
   ]
  },
  {
   "cell_type": "code",
   "execution_count": null,
   "metadata": {},
   "outputs": [],
   "source": [
    "# Check total edge number and unique edge_id number.\n",
    "print(df_edge_raw.shape[0])\n",
    "print(df_edge_raw.edge_id.unique().shape[0])"
   ]
  },
  {
   "cell_type": "code",
   "execution_count": null,
   "metadata": {},
   "outputs": [],
   "source": [
    "# Pull out only necessary information.\n",
    "df_edge_base = df_edge_raw[[\"edge_id\", \"edge_from\", \"edge_to\", \"edge_numLanes\"]].copy()\n",
    "df_edge_base.head()"
   ]
  },
  {
   "cell_type": "code",
   "execution_count": null,
   "metadata": {},
   "outputs": [],
   "source": [
    "# Set data types\n",
    "df_edge_base = df_edge_base.astype({\"edge_id\" : str, \"edge_from\": str, \"edge_to\":str})\n",
    "df_edge_base.head()"
   ]
  },
  {
   "cell_type": "code",
   "execution_count": null,
   "metadata": {},
   "outputs": [],
   "source": [
    "# Check data types.\n",
    "df_edge_base.dtypes"
   ]
  },
  {
   "cell_type": "code",
   "execution_count": null,
   "metadata": {},
   "outputs": [],
   "source": [
    "# Check number of edges again.\n",
    "df_edge_base.shape[0]"
   ]
  },
  {
   "cell_type": "code",
   "execution_count": null,
   "metadata": {},
   "outputs": [],
   "source": [
    "# Drop duplicated edge id and reset index so that index number can represent edge_id.\n",
    "df_edge_base.drop_duplicates(subset=[\"edge_id\"], keep= \"first\", inplace= True)\n",
    "df_edge_base.reset_index(drop= True, inplace= True)\n",
    "df_edge_base.head()"
   ]
  },
  {
   "cell_type": "code",
   "execution_count": null,
   "metadata": {},
   "outputs": [],
   "source": [
    "# Check number of edges again. Should coincide with unique number.\n",
    "df_edge_base.shape[0]"
   ]
  },
  {
   "cell_type": "code",
   "execution_count": null,
   "metadata": {},
   "outputs": [],
   "source": [
    "# How to pull out element values as pure string or number. not array.\n",
    "print(df_edge_base[df_edge_base.edge_id == \"100307561\"][\"edge_to\"].values[0])\n",
    "print(df_edge_base[df_edge_base.edge_id == \"100307561\"].index.values[0])"
   ]
  },
  {
   "cell_type": "code",
   "execution_count": null,
   "metadata": {},
   "outputs": [],
   "source": [
    "# Remove edge_numLanes column.\n",
    "df_edge_base.drop(columns=[\"edge_numLanes\"], inplace= True)\n",
    "df_edge_base.head()"
   ]
  },
  {
   "cell_type": "code",
   "execution_count": null,
   "metadata": {},
   "outputs": [],
   "source": [
    "# Store base dataframe.\n",
    "df_edge_base.to_csv(\"munich_motorway_v3/df_edge_base.csv\")"
   ]
  }
 ],
 "metadata": {
  "kernelspec": {
   "display_name": "Python 3.9.12 ('base')",
   "language": "python",
   "name": "python3"
  },
  "language_info": {
   "codemirror_mode": {
    "name": "ipython",
    "version": 3
   },
   "file_extension": ".py",
   "mimetype": "text/x-python",
   "name": "python",
   "nbconvert_exporter": "python",
   "pygments_lexer": "ipython3",
   "version": "3.9.12"
  },
  "orig_nbformat": 4,
  "vscode": {
   "interpreter": {
    "hash": "ad2bdc8ecc057115af97d19610ffacc2b4e99fae6737bb82f5d7fb13d2f2c186"
   }
  }
 },
 "nbformat": 4,
 "nbformat_minor": 2
}
